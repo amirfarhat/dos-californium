{
 "cells": [
  {
   "cell_type": "code",
   "execution_count": 1,
   "metadata": {
    "id": "QO-2QNzhrIH4"
   },
   "outputs": [],
   "source": [
    "import psycopg2\n",
    "\n",
    "import numpy as np\n",
    "import pandas as pd\n",
    "\n",
    "import matplotlib.pyplot as plt\n",
    "plt.rcParams['figure.figsize'] = [16, 8]\n",
    "\n",
    "from pprint import pprint\n",
    "\n",
    "try:\n",
    "  con\n",
    "except NameError:\n",
    "  con = psycopg2.connect(user=\"postgres\", dbname=\"plsdbgfinalexps\")\n",
    "  con.set_session(readonly=True, autocommit=False)"
   ]
  },
  {
   "cell_type": "code",
   "execution_count": 2,
   "metadata": {
    "colab": {
     "base_uri": "https://localhost:8080/",
     "height": 328
    },
    "id": "h7rBz1cTpEzx",
    "outputId": "bab0f5bd-d61d-4fd8-8b11-6597bda39fe6"
   },
   "outputs": [
    {
     "data": {
      "text/html": [
       "<div>\n",
       "<style scoped>\n",
       "    .dataframe tbody tr th:only-of-type {\n",
       "        vertical-align: middle;\n",
       "    }\n",
       "\n",
       "    .dataframe tbody tr th {\n",
       "        vertical-align: top;\n",
       "    }\n",
       "\n",
       "    .dataframe thead th {\n",
       "        text-align: right;\n",
       "    }\n",
       "</style>\n",
       "<table border=\"1\" class=\"dataframe\">\n",
       "  <thead>\n",
       "    <tr style=\"text-align: right;\">\n",
       "      <th></th>\n",
       "      <th>exp_id</th>\n",
       "      <th>attacker_rate</th>\n",
       "      <th>proxy_connections</th>\n",
       "      <th>count</th>\n",
       "    </tr>\n",
       "  </thead>\n",
       "  <tbody>\n",
       "    <tr>\n",
       "      <th>0</th>\n",
       "      <td>1client_0attacker_80secserver_2retry_reuse_90v...</td>\n",
       "      <td>100mbps</td>\n",
       "      <td>90</td>\n",
       "      <td>31775</td>\n",
       "    </tr>\n",
       "  </tbody>\n",
       "</table>\n",
       "</div>"
      ],
      "text/plain": [
       "                                              exp_id attacker_rate  \\\n",
       "0  1client_0attacker_80secserver_2retry_reuse_90v...       100mbps   \n",
       "\n",
       "   proxy_connections  count  \n",
       "0                 90  31775  "
      ]
     },
     "execution_count": 2,
     "metadata": {},
     "output_type": "execute_result"
    }
   ],
   "source": [
    "exp_data_sql = \"\"\"\n",
    "SELECT \n",
    "\tex.exp_id,\n",
    "  ex.attacker_rate,\n",
    "  ex.proxy_connections,\n",
    "\tCOUNT(e.message_marker)\n",
    "FROM \n",
    "\texperiment ex\n",
    "  JOIN deployed_node d ON d.exp_id = ex.exp_id\n",
    "  JOIN event e ON e.observer_id = d.dnid\n",
    "GROUP BY\n",
    "\tex.exp_id\n",
    "ORDER BY\n",
    "  ex.attacker_rate,\n",
    "  ex.proxy_connections\n",
    ";\n",
    "\"\"\"\n",
    "lay_of_the_land = pd.read_sql_query(exp_data_sql, con)\n",
    "con.commit()\n",
    "lay_of_the_land"
   ]
  },
  {
   "cell_type": "code",
   "execution_count": 3,
   "metadata": {
    "colab": {
     "base_uri": "https://localhost:8080/"
    },
    "id": "0OuBrYL5sqxR",
    "outputId": "5772ba3c-9177-472a-d93e-0e9d7fc37a54"
   },
   "outputs": [
    {
     "data": {
      "text/plain": [
       "9"
      ]
     },
     "execution_count": 3,
     "metadata": {},
     "output_type": "execute_result"
    }
   ],
   "source": [
    "experiments = [\n",
    "  \"'1attacker10mbps_1client_30vs100conns_8gb'\",\n",
    "  \"'1attacker10mbps_1client_60vs100conns_8gb'\",\n",
    "  \"'1attacker10mbps_1client_90vs100conns_8gb'\",\n",
    "\n",
    "  \"'1attacker50mbps_1client_30vs100conns_8gb'\",\n",
    "  \"'1attacker50mbps_1client_60vs100conns_8gb'\",\n",
    "  \"'1attacker50mbps_1client_90vs100conns_8gb'\",\n",
    "\n",
    "  \"'1attacker100mbps_1client_30vs100conns_8gb'\",\n",
    "  \"'1attacker100mbps_1client_60vs100conns_8gb'\",\n",
    "  \"'1attacker100mbps_1client_90vs100conns_8gb'\",\n",
    "]\n",
    "\n",
    "len(experiments)"
   ]
  },
  {
   "cell_type": "code",
   "execution_count": 4,
   "metadata": {
    "colab": {
     "base_uri": "https://localhost:8080/",
     "height": 328
    },
    "id": "3YrQkXKcsPt1",
    "outputId": "c9310058-c768-457b-958f-c3a06f488e82"
   },
   "outputs": [
    {
     "data": {
      "text/html": [
       "<div>\n",
       "<style scoped>\n",
       "    .dataframe tbody tr th:only-of-type {\n",
       "        vertical-align: middle;\n",
       "    }\n",
       "\n",
       "    .dataframe tbody tr th {\n",
       "        vertical-align: top;\n",
       "    }\n",
       "\n",
       "    .dataframe thead th {\n",
       "        text-align: right;\n",
       "    }\n",
       "</style>\n",
       "<table border=\"1\" class=\"dataframe\">\n",
       "  <thead>\n",
       "    <tr style=\"text-align: right;\">\n",
       "      <th></th>\n",
       "      <th>exp_id</th>\n",
       "      <th>attacker_rate_mbps</th>\n",
       "      <th>proxy_connections</th>\n",
       "      <th>count</th>\n",
       "      <th>client_messages</th>\n",
       "    </tr>\n",
       "  </thead>\n",
       "  <tbody>\n",
       "    <tr>\n",
       "      <th>0</th>\n",
       "      <td>1client_0attacker_80secserver_2retry_reuse_90v...</td>\n",
       "      <td>100</td>\n",
       "      <td>90</td>\n",
       "      <td>31775</td>\n",
       "      <td>0</td>\n",
       "    </tr>\n",
       "  </tbody>\n",
       "</table>\n",
       "</div>"
      ],
      "text/plain": [
       "                                              exp_id  attacker_rate_mbps  \\\n",
       "0  1client_0attacker_80secserver_2retry_reuse_90v...                 100   \n",
       "\n",
       "   proxy_connections  count  client_messages  \n",
       "0                 90  31775                0  "
      ]
     },
     "execution_count": 4,
     "metadata": {},
     "output_type": "execute_result"
    }
   ],
   "source": [
    "client_message_send_sql = \"\"\"\n",
    "SELECT \n",
    "\td.exp_id,\n",
    "  ex.proxy_connections,\n",
    "  ex.attacker_rate,\n",
    "\tCOUNT({} e.message_marker) AS client_messages\n",
    "FROM\n",
    "\tdeployed_node d\n",
    "  JOIN experiment ex ON ex.exp_id = d.exp_id\n",
    "\tJOIN event e ON d.dnid = e.observer_id\n",
    "\tJOIN node n ON n.node_id = d.node_id\n",
    "\tJOIN message m ON m.message_id = e.message_id\n",
    "WHERE\n",
    "\td.exp_id IN ({})\n",
    "\tAND n.node_name LIKE 'client%'\n",
    "\tAND m.{} = n.node_id\n",
    "GROUP BY\n",
    "\td.exp_id,\n",
    "  ex.proxy_connections,\n",
    "  ex.attacker_rate\n",
    ";\n",
    "\"\"\"\n",
    "\n",
    "recv_sql = client_message_send_sql.format('', \",\".join(experiments), 'dst_id')\n",
    "df = pd.read_sql_query(recv_sql, con)\n",
    "con.commit()\n",
    "\n",
    "df = lay_of_the_land.merge(df, how='outer')\n",
    "df.fillna(0, inplace=True)\n",
    "\n",
    "df[\"attacker_rate\"] = df[\"attacker_rate\"].astype(str).str.rstrip(\"mbps\").astype(int)\n",
    "df.rename(columns={\"attacker_rate\": \"attacker_rate_mbps\"}, inplace=True)\n",
    "\n",
    "df"
   ]
  },
  {
   "cell_type": "code",
   "execution_count": 5,
   "metadata": {
    "colab": {
     "base_uri": "https://localhost:8080/",
     "height": 514
    },
    "id": "q9CUp7rDSDO2",
    "outputId": "8587b72a-1337-40b5-95b3-69c3e702f32a"
   },
   "outputs": [
    {
     "data": {
      "image/png": "[encoded data removed]",
      "text/plain": [
       "<Figure size 1152x576 with 1 Axes>"
      ]
     },
     "metadata": {
      "needs_background": "light"
     },
     "output_type": "display_data"
    }
   ],
   "source": [
    "ndf = df.drop(columns=[\"exp_id\", \"count\"])\n",
    "ndf.sort_values(by=[\"attacker_rate_mbps\", \"proxy_connections\"], inplace=True)\n",
    "\n",
    "pndf = ndf.pivot(index=\"attacker_rate_mbps\", columns=\"proxy_connections\")\n",
    "bars = pndf.plot.bar(\n",
    "    y=\"client_messages\",\n",
    "    rot=0,\n",
    "    ylabel=\"client_messages\",\n",
    "    title=\"Successful Client Messages vs Attack Rate and Number of Proxy Connections\",\n",
    ")\n",
    "for rect in bars.patches:\n",
    "  x, _ = rect.xy\n",
    "  y = rect.get_height()\n",
    "  plt.text(x+0.05, y+0.25, y)"
   ]
  }
 ],
 "metadata": {
  "colab": {
   "collapsed_sections": [],
   "name": "compare_db_plot.ipynb",
   "provenance": []
  },
  "kernelspec": {
   "display_name": "Python 3",
   "language": "python",
   "name": "python3"
  },
  "language_info": {
   "codemirror_mode": {
    "name": "ipython",
    "version": 3
   },
   "file_extension": ".py",
   "mimetype": "text/x-python",
   "name": "python",
   "nbconvert_exporter": "python",
   "pygments_lexer": "ipython3",
   "version": "3.6.9"
  }
 },
 "nbformat": 4,
 "nbformat_minor": 1
}
