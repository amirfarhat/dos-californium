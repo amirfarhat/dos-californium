{
 "cells": [
  {
   "cell_type": "code",
   "execution_count": 1,
   "metadata": {
    "id": "QO-2QNzhrIH4"
   },
   "outputs": [],
   "source": [
    "import psycopg2\n",
    "\n",
    "import numpy as np\n",
    "import pandas as pd\n",
    "\n",
    "import matplotlib.pyplot as plt\n",
    "plt.rcParams['figure.figsize'] = [16, 8]\n",
    "\n",
    "from pprint import pprint\n",
    "\n",
    "try:\n",
    "  con\n",
    "except NameError:\n",
    "  con = psycopg2.connect(user=\"postgres\", dbname=\"experiments\")\n",
    "  con.set_session(readonly=True, autocommit=False)"
   ]
  },
  {
   "cell_type": "code",
   "execution_count": 2,
   "metadata": {
    "colab": {
     "base_uri": "https://localhost:8080/",
     "height": 328
    },
    "id": "h7rBz1cTpEzx",
    "outputId": "bab0f5bd-d61d-4fd8-8b11-6597bda39fe6"
   },
   "outputs": [
    {
     "data": {
      "text/html": [
       "<div>\n",
       "<style scoped>\n",
       "    .dataframe tbody tr th:only-of-type {\n",
       "        vertical-align: middle;\n",
       "    }\n",
       "\n",
       "    .dataframe tbody tr th {\n",
       "        vertical-align: top;\n",
       "    }\n",
       "\n",
       "    .dataframe thead th {\n",
       "        text-align: right;\n",
       "    }\n",
       "</style>\n",
       "<table border=\"1\" class=\"dataframe\">\n",
       "  <thead>\n",
       "    <tr style=\"text-align: right;\">\n",
       "      <th></th>\n",
       "      <th>exp_id</th>\n",
       "      <th>attacker_rate</th>\n",
       "      <th>proxy_connections</th>\n",
       "      <th>count</th>\n",
       "    </tr>\n",
       "  </thead>\n",
       "  <tbody>\n",
       "    <tr>\n",
       "      <th>0</th>\n",
       "      <td>1attacker100mbps_1client_30vs100conns_8gb</td>\n",
       "      <td>100mbps</td>\n",
       "      <td>30</td>\n",
       "      <td>1955592</td>\n",
       "    </tr>\n",
       "    <tr>\n",
       "      <th>1</th>\n",
       "      <td>1attacker100mbps_1client_60vs100conns_8gb</td>\n",
       "      <td>100mbps</td>\n",
       "      <td>60</td>\n",
       "      <td>2401061</td>\n",
       "    </tr>\n",
       "    <tr>\n",
       "      <th>2</th>\n",
       "      <td>1attacker100mbps_1client_90vs100conns_8gb</td>\n",
       "      <td>100mbps</td>\n",
       "      <td>90</td>\n",
       "      <td>2786263</td>\n",
       "    </tr>\n",
       "    <tr>\n",
       "      <th>3</th>\n",
       "      <td>1attacker10mbps_1client_30vs100conns_8gb</td>\n",
       "      <td>10mbps</td>\n",
       "      <td>30</td>\n",
       "      <td>1118052</td>\n",
       "    </tr>\n",
       "    <tr>\n",
       "      <th>4</th>\n",
       "      <td>1attacker10mbps_1client_60vs100conns_8gb</td>\n",
       "      <td>10mbps</td>\n",
       "      <td>60</td>\n",
       "      <td>780861</td>\n",
       "    </tr>\n",
       "    <tr>\n",
       "      <th>5</th>\n",
       "      <td>1attacker10mbps_1client_90vs100conns_8gb</td>\n",
       "      <td>10mbps</td>\n",
       "      <td>90</td>\n",
       "      <td>1795196</td>\n",
       "    </tr>\n",
       "    <tr>\n",
       "      <th>6</th>\n",
       "      <td>1attacker50mbps_1client_30vs100conns_8gb</td>\n",
       "      <td>50mbps</td>\n",
       "      <td>30</td>\n",
       "      <td>1945359</td>\n",
       "    </tr>\n",
       "    <tr>\n",
       "      <th>7</th>\n",
       "      <td>1attacker50mbps_1client_60vs100conns_8gb</td>\n",
       "      <td>50mbps</td>\n",
       "      <td>60</td>\n",
       "      <td>2344471</td>\n",
       "    </tr>\n",
       "    <tr>\n",
       "      <th>8</th>\n",
       "      <td>1attacker50mbps_1client_90vs100conns_8gb</td>\n",
       "      <td>50mbps</td>\n",
       "      <td>90</td>\n",
       "      <td>2706789</td>\n",
       "    </tr>\n",
       "  </tbody>\n",
       "</table>\n",
       "</div>"
      ],
      "text/plain": [
       "                                      exp_id attacker_rate  proxy_connections  \\\n",
       "0  1attacker100mbps_1client_30vs100conns_8gb       100mbps                 30   \n",
       "1  1attacker100mbps_1client_60vs100conns_8gb       100mbps                 60   \n",
       "2  1attacker100mbps_1client_90vs100conns_8gb       100mbps                 90   \n",
       "3   1attacker10mbps_1client_30vs100conns_8gb        10mbps                 30   \n",
       "4   1attacker10mbps_1client_60vs100conns_8gb        10mbps                 60   \n",
       "5   1attacker10mbps_1client_90vs100conns_8gb        10mbps                 90   \n",
       "6   1attacker50mbps_1client_30vs100conns_8gb        50mbps                 30   \n",
       "7   1attacker50mbps_1client_60vs100conns_8gb        50mbps                 60   \n",
       "8   1attacker50mbps_1client_90vs100conns_8gb        50mbps                 90   \n",
       "\n",
       "     count  \n",
       "0  1955592  \n",
       "1  2401061  \n",
       "2  2786263  \n",
       "3  1118052  \n",
       "4   780861  \n",
       "5  1795196  \n",
       "6  1945359  \n",
       "7  2344471  \n",
       "8  2706789  "
      ]
     },
     "execution_count": 2,
     "metadata": {
      "tags": []
     },
     "output_type": "execute_result"
    }
   ],
   "source": [
    "exp_data_sql = \"\"\"\n",
    "SELECT \n",
    "\tex.exp_id,\n",
    "  ex.attacker_rate,\n",
    "  ex.proxy_connections,\n",
    "\tCOUNT(e.message_marker)\n",
    "FROM \n",
    "\texperiment ex\n",
    "  JOIN deployed_node d ON d.exp_id = ex.exp_id\n",
    "  JOIN event e ON e.observer_id = d.dnid\n",
    "GROUP BY\n",
    "\tex.exp_id\n",
    "ORDER BY\n",
    "  ex.attacker_rate,\n",
    "  ex.proxy_connections\n",
    ";\n",
    "\"\"\"\n",
    "lay_of_the_land = pd.read_sql_query(exp_data_sql, con)\n",
    "con.commit()\n",
    "lay_of_the_land"
   ]
  },
  {
   "cell_type": "code",
   "execution_count": 3,
   "metadata": {
    "colab": {
     "base_uri": "https://localhost:8080/"
    },
    "id": "0OuBrYL5sqxR",
    "outputId": "5772ba3c-9177-472a-d93e-0e9d7fc37a54"
   },
   "outputs": [
    {
     "data": {
      "text/plain": [
       "9"
      ]
     },
     "execution_count": 3,
     "metadata": {
      "tags": []
     },
     "output_type": "execute_result"
    }
   ],
   "source": [
    "experiments = [\n",
    "  \"'1attacker10mbps_1client_30vs100conns_8gb'\",\n",
    "  \"'1attacker10mbps_1client_60vs100conns_8gb'\",\n",
    "  \"'1attacker10mbps_1client_90vs100conns_8gb'\",\n",
    "\n",
    "  \"'1attacker50mbps_1client_30vs100conns_8gb'\",\n",
    "  \"'1attacker50mbps_1client_60vs100conns_8gb'\",\n",
    "  \"'1attacker50mbps_1client_90vs100conns_8gb'\",\n",
    "\n",
    "  \"'1attacker100mbps_1client_30vs100conns_8gb'\",\n",
    "  \"'1attacker100mbps_1client_60vs100conns_8gb'\",\n",
    "  \"'1attacker100mbps_1client_90vs100conns_8gb'\",\n",
    "]\n",
    "\n",
    "len(experiments)"
   ]
  },
  {
   "cell_type": "code",
   "execution_count": 4,
   "metadata": {
    "colab": {
     "base_uri": "https://localhost:8080/",
     "height": 328
    },
    "id": "3YrQkXKcsPt1",
    "outputId": "c9310058-c768-457b-958f-c3a06f488e82"
   },
   "outputs": [
    {
     "data": {
      "text/html": [
       "<div>\n",
       "<style scoped>\n",
       "    .dataframe tbody tr th:only-of-type {\n",
       "        vertical-align: middle;\n",
       "    }\n",
       "\n",
       "    .dataframe tbody tr th {\n",
       "        vertical-align: top;\n",
       "    }\n",
       "\n",
       "    .dataframe thead th {\n",
       "        text-align: right;\n",
       "    }\n",
       "</style>\n",
       "<table border=\"1\" class=\"dataframe\">\n",
       "  <thead>\n",
       "    <tr style=\"text-align: right;\">\n",
       "      <th></th>\n",
       "      <th>exp_id</th>\n",
       "      <th>attacker_rate_mbps</th>\n",
       "      <th>proxy_connections</th>\n",
       "      <th>count</th>\n",
       "      <th>client_messages</th>\n",
       "    </tr>\n",
       "  </thead>\n",
       "  <tbody>\n",
       "    <tr>\n",
       "      <th>0</th>\n",
       "      <td>1attacker100mbps_1client_30vs100conns_8gb</td>\n",
       "      <td>100</td>\n",
       "      <td>30</td>\n",
       "      <td>1955592</td>\n",
       "      <td>0.0</td>\n",
       "    </tr>\n",
       "    <tr>\n",
       "      <th>1</th>\n",
       "      <td>1attacker100mbps_1client_60vs100conns_8gb</td>\n",
       "      <td>100</td>\n",
       "      <td>60</td>\n",
       "      <td>2401061</td>\n",
       "      <td>21.0</td>\n",
       "    </tr>\n",
       "    <tr>\n",
       "      <th>2</th>\n",
       "      <td>1attacker100mbps_1client_90vs100conns_8gb</td>\n",
       "      <td>100</td>\n",
       "      <td>90</td>\n",
       "      <td>2786263</td>\n",
       "      <td>22.0</td>\n",
       "    </tr>\n",
       "    <tr>\n",
       "      <th>3</th>\n",
       "      <td>1attacker10mbps_1client_30vs100conns_8gb</td>\n",
       "      <td>10</td>\n",
       "      <td>30</td>\n",
       "      <td>1118052</td>\n",
       "      <td>19.0</td>\n",
       "    </tr>\n",
       "    <tr>\n",
       "      <th>4</th>\n",
       "      <td>1attacker10mbps_1client_60vs100conns_8gb</td>\n",
       "      <td>10</td>\n",
       "      <td>60</td>\n",
       "      <td>780861</td>\n",
       "      <td>24.0</td>\n",
       "    </tr>\n",
       "    <tr>\n",
       "      <th>5</th>\n",
       "      <td>1attacker10mbps_1client_90vs100conns_8gb</td>\n",
       "      <td>10</td>\n",
       "      <td>90</td>\n",
       "      <td>1795196</td>\n",
       "      <td>23.0</td>\n",
       "    </tr>\n",
       "    <tr>\n",
       "      <th>6</th>\n",
       "      <td>1attacker50mbps_1client_30vs100conns_8gb</td>\n",
       "      <td>50</td>\n",
       "      <td>30</td>\n",
       "      <td>1945359</td>\n",
       "      <td>3.0</td>\n",
       "    </tr>\n",
       "    <tr>\n",
       "      <th>7</th>\n",
       "      <td>1attacker50mbps_1client_60vs100conns_8gb</td>\n",
       "      <td>50</td>\n",
       "      <td>60</td>\n",
       "      <td>2344471</td>\n",
       "      <td>21.0</td>\n",
       "    </tr>\n",
       "    <tr>\n",
       "      <th>8</th>\n",
       "      <td>1attacker50mbps_1client_90vs100conns_8gb</td>\n",
       "      <td>50</td>\n",
       "      <td>90</td>\n",
       "      <td>2706789</td>\n",
       "      <td>21.0</td>\n",
       "    </tr>\n",
       "  </tbody>\n",
       "</table>\n",
       "</div>"
      ],
      "text/plain": [
       "                                      exp_id  attacker_rate_mbps  \\\n",
       "0  1attacker100mbps_1client_30vs100conns_8gb                 100   \n",
       "1  1attacker100mbps_1client_60vs100conns_8gb                 100   \n",
       "2  1attacker100mbps_1client_90vs100conns_8gb                 100   \n",
       "3   1attacker10mbps_1client_30vs100conns_8gb                  10   \n",
       "4   1attacker10mbps_1client_60vs100conns_8gb                  10   \n",
       "5   1attacker10mbps_1client_90vs100conns_8gb                  10   \n",
       "6   1attacker50mbps_1client_30vs100conns_8gb                  50   \n",
       "7   1attacker50mbps_1client_60vs100conns_8gb                  50   \n",
       "8   1attacker50mbps_1client_90vs100conns_8gb                  50   \n",
       "\n",
       "   proxy_connections    count  client_messages  \n",
       "0                 30  1955592              0.0  \n",
       "1                 60  2401061             21.0  \n",
       "2                 90  2786263             22.0  \n",
       "3                 30  1118052             19.0  \n",
       "4                 60   780861             24.0  \n",
       "5                 90  1795196             23.0  \n",
       "6                 30  1945359              3.0  \n",
       "7                 60  2344471             21.0  \n",
       "8                 90  2706789             21.0  "
      ]
     },
     "execution_count": 4,
     "metadata": {
      "tags": []
     },
     "output_type": "execute_result"
    }
   ],
   "source": [
    "client_message_send_sql = \"\"\"\n",
    "SELECT \n",
    "\td.exp_id,\n",
    "  ex.proxy_connections,\n",
    "  ex.attacker_rate,\n",
    "\tCOUNT({} e.message_marker) AS client_messages\n",
    "FROM\n",
    "\tdeployed_node d\n",
    "  JOIN experiment ex ON ex.exp_id = d.exp_id\n",
    "\tJOIN event e ON d.dnid = e.observer_id\n",
    "\tJOIN node n ON n.node_id = d.node_id\n",
    "\tJOIN message m ON m.message_id = e.message_id\n",
    "WHERE\n",
    "\td.exp_id IN ({})\n",
    "\tAND n.node_name LIKE 'client%'\n",
    "\tAND m.{} = n.node_id\n",
    "GROUP BY\n",
    "\td.exp_id,\n",
    "  ex.proxy_connections,\n",
    "  ex.attacker_rate\n",
    ";\n",
    "\"\"\"\n",
    "\n",
    "recv_sql = client_message_send_sql.format('', \",\".join(experiments), 'dst_id')\n",
    "df = pd.read_sql_query(recv_sql, con)\n",
    "con.commit()\n",
    "\n",
    "df = lay_of_the_land.merge(df, how='outer')\n",
    "df.fillna(0, inplace=True)\n",
    "\n",
    "df[\"attacker_rate\"] = df[\"attacker_rate\"].astype(str).str.rstrip(\"mbps\").astype(int)\n",
    "df.rename(columns={\"attacker_rate\": \"attacker_rate_mbps\"}, inplace=True)\n",
    "\n",
    "df"
   ]
  },
  {
   "cell_type": "code",
   "execution_count": 49,
   "metadata": {
    "colab": {
     "base_uri": "https://localhost:8080/",
     "height": 514
    },
    "id": "q9CUp7rDSDO2",
    "outputId": "8587b72a-1337-40b5-95b3-69c3e702f32a"
   },
   "outputs": [
    {
     "data": {
      "image/png": "[encoded data removed]",
      "text/plain": [
       "<Figure size 1152x576 with 1 Axes>"
      ]
     },
     "metadata": {
      "needs_background": "light",
      "tags": []
     },
     "output_type": "display_data"
    }
   ],
   "source": [
    "ndf = df.drop(columns=[\"exp_id\", \"count\"])\n",
    "ndf.sort_values(by=[\"attacker_rate_mbps\", \"proxy_connections\"], inplace=True)\n",
    "\n",
    "pndf = ndf.pivot(index=\"attacker_rate_mbps\", columns=\"proxy_connections\")\n",
    "bars = pndf.plot.bar(\n",
    "    y=\"client_messages\",\n",
    "    rot=0,\n",
    "    ylabel=\"client_messages\",\n",
    "    title=\"Successful Client Messages vs Attack Rate and Number of Proxy Connections\",\n",
    ")\n",
    "for rect in bars.patches:\n",
    "  x, _ = rect.xy\n",
    "  y = rect.get_height()\n",
    "  plt.text(x+0.05, y+0.25, y)"
   ]
  }
 ],
 "metadata": {
  "colab": {
   "collapsed_sections": [],
   "name": "compare_db_plot.ipynb",
   "provenance": []
  },
  "kernelspec": {
   "display_name": "Python 3",
   "name": "python3"
  },
  "language_info": {
   "name": "python"
  }
 },
 "nbformat": 4,
 "nbformat_minor": 0
}
